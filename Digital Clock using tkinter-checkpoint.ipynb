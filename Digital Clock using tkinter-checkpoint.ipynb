{
 "cells": [
  {
   "cell_type": "code",
   "execution_count": 17,
   "metadata": {},
   "outputs": [],
   "source": [
    "import tkinter\n",
    "from tkinter import*\n",
    "from time import strftime\n",
    "\n",
    "root = tkinter.Tk()\n",
    "root.title(\"clock widget by Aditi Nasikkar\")\n",
    "def time():\n",
    "    t = strftime('%H:%M:%S %p') \n",
    "    label.config(text=t)\n",
    "    label.after(1000,time)#updates label after every 1msec\n",
    "root.geometry('1000x500')    \n",
    "label=Label(root,font=(\"ds-digital\",65),background=\"#eb3498\",foreground=\"black\")\n",
    "label.pack(anchor='center')\n",
    "time()\n",
    "root.mainloop()"
   ]
  },
  {
   "cell_type": "code",
   "execution_count": null,
   "metadata": {},
   "outputs": [],
   "source": []
  }
 ],
 "metadata": {
  "kernelspec": {
   "display_name": "Python 3",
   "language": "python",
   "name": "python3"
  },
  "language_info": {
   "codemirror_mode": {
    "name": "ipython",
    "version": 3
   },
   "file_extension": ".py",
   "mimetype": "text/x-python",
   "name": "python",
   "nbconvert_exporter": "python",
   "pygments_lexer": "ipython3",
   "version": "3.7.6"
  }
 },
 "nbformat": 4,
 "nbformat_minor": 4
}
